{
  "cells": [
    {
      "cell_type": "code",
      "execution_count": 2,
      "metadata": {
        "colab": {
          "base_uri": "https://localhost:8080/"
        },
        "id": "panP3Gvb-P_b",
        "outputId": "e8526fa1-e518-4bac-bb27-9d9e699d1c87"
      },
      "outputs": [
        {
          "name": "stdout",
          "output_type": "stream",
          "text": [
            "Mounted at /content/drive\n",
            "/content/drive/MyDrive/myself\n",
            "\u001b[0m\u001b[01;34mData_preprocessing\u001b[0m/                 DeepFashion_Try_On_흰옷_최종본.ipynb\n",
            "DeepFashion_Try_On_최종_제출.ipynb\n"
          ]
        }
      ],
      "source": [
        "from google.colab import drive\n",
        "drive.mount('/content/drive')\n",
        "%cd ./drive/MyDrive/myself/\n",
        "%ls"
      ]
    },
    {
      "cell_type": "code",
      "execution_count": 3,
      "metadata": {
        "colab": {
          "base_uri": "https://localhost:8080/"
        },
        "id": "GVm5QFBMDBbT",
        "outputId": "eeffade5-8957-46e0-ed63-05dea658f7df"
      },
      "outputs": [
        {
          "name": "stdout",
          "output_type": "stream",
          "text": [
            "Cloning into 'ACGPN'...\n",
            "remote: Enumerating objects: 165, done.\u001b[K\n",
            "remote: Counting objects: 100% (24/24), done.\u001b[K\n",
            "remote: Compressing objects: 100% (6/6), done.\u001b[K\n",
            "remote: Total 165 (delta 21), reused 19 (delta 18), pack-reused 141\u001b[K\n",
            "Receiving objects: 100% (165/165), 303.15 KiB | 3.61 MiB/s, done.\n",
            "Resolving deltas: 100% (62/62), done.\n",
            "/content/drive/MyDrive/myself/ACGPN\n"
          ]
        }
      ],
      "source": [
        "!git clone https://github.com/kairess/ACGPN.git\n",
        "%cd ACGPN"
      ]
    },
    {
      "cell_type": "markdown",
      "metadata": {
        "id": "-nBzTaWmcTK9"
      },
      "source": [
        "## Dependencies"
      ]
    },
    {
      "cell_type": "code",
      "execution_count": 4,
      "metadata": {
        "colab": {
          "base_uri": "https://localhost:8080/"
        },
        "id": "GEj3cTepGTcc",
        "outputId": "2f12cd49-7275-46d0-dd26-d9c77f6bb1f3"
      },
      "outputs": [
        {
          "name": "stdout",
          "output_type": "stream",
          "text": [
            "\u001b[?25l     \u001b[90m━━━━━━━━━━━━━━━━━━━━━━━━━━━━━━━━━━━━━━━━\u001b[0m \u001b[32m0.0/146.0 kB\u001b[0m \u001b[31m?\u001b[0m eta \u001b[36m-:--:--\u001b[0m\r\u001b[2K     \u001b[90m━━━━━━━━━━━━━━━━━━━━━━━━━━━━━━━━━━━━━━━\u001b[0m \u001b[32m146.0/146.0 kB\u001b[0m \u001b[31m4.8 MB/s\u001b[0m eta \u001b[36m0:00:00\u001b[0m\n",
            "\u001b[?25h"
          ]
        }
      ],
      "source": [
        "!pip install -U --no-cache-dir gdown --pre -qq\n",
        "!pip install ninja -qq"
      ]
    },
    {
      "cell_type": "code",
      "execution_count": 5,
      "metadata": {
        "id": "xQwI--uhoH6R"
      },
      "outputs": [],
      "source": [
        "import gdown\n",
        "import numpy as np\n",
        "from PIL import Image\n",
        "import IPython\n",
        "import gdown\n",
        "import os\n",
        "import sys\n",
        "import time\n",
        "\n",
        "from predict_pose import generate_pose_keypoints"
      ]
    },
    {
      "cell_type": "code",
      "execution_count": 6,
      "metadata": {
        "id": "86Ll7LIW1kGw"
      },
      "outputs": [],
      "source": [
        "!mkdir Data_preprocessing/test_color\n",
        "!mkdir Data_preprocessing/test_colormask\n",
        "!mkdir Data_preprocessing/test_edge\n",
        "!mkdir Data_preprocessing/test_img\n",
        "!mkdir Data_preprocessing/test_label\n",
        "!mkdir Data_preprocessing/test_mask\n",
        "!mkdir Data_preprocessing/test_pose\n",
        "!mkdir inputs\n",
        "!mkdir inputs/img\n",
        "!mkdir inputs/cloth"
      ]
    },
    {
      "cell_type": "code",
      "execution_count": 7,
      "metadata": {
        "colab": {
          "base_uri": "https://localhost:8080/"
        },
        "id": "HbGDB31KrKHV",
        "outputId": "baa0f0c3-df7d-455d-97f6-cc5e7db400af"
      },
      "outputs": [
        {
          "name": "stdout",
          "output_type": "stream",
          "text": [
            "Cloning into 'Self-Correction-Human-Parsing-for-ACGPN'...\n",
            "remote: Enumerating objects: 769, done.\u001b[K\n",
            "remote: Counting objects: 100% (769/769), done.\u001b[K\n",
            "remote: Compressing objects: 100% (583/583), done.\u001b[K\n",
            "remote: Total 769 (delta 184), reused 661 (delta 175), pack-reused 0\u001b[K\n",
            "Receiving objects: 100% (769/769), 3.89 MiB | 12.81 MiB/s, done.\n",
            "Resolving deltas: 100% (184/184), done.\n",
            "Updating files: 100% (546/546), done.\n",
            "Cloning into 'U-2-Net'...\n",
            "remote: Enumerating objects: 822, done.\u001b[K\n",
            "remote: Counting objects: 100% (822/822), done.\u001b[K\n",
            "remote: Compressing objects: 100% (439/439), done.\u001b[K\n",
            "remote: Total 822 (delta 389), reused 793 (delta 379), pack-reused 0\u001b[K\n",
            "Receiving objects: 100% (822/822), 30.71 MiB | 16.90 MiB/s, done.\n",
            "Resolving deltas: 100% (389/389), done.\n",
            "Updating files: 100% (173/173), done.\n"
          ]
        }
      ],
      "source": [
        "!git clone https://github.com/levindabhi/Self-Correction-Human-Parsing-for-ACGPN.git\n",
        "!git clone https://github.com/levindabhi/U-2-Net.git"
      ]
    },
    {
      "cell_type": "markdown",
      "metadata": {
        "id": "vCjptBAJiGrI"
      },
      "source": [
        "## 사전학습 모델 다운로드"
      ]
    },
    {
      "cell_type": "markdown",
      "metadata": {
        "id": "5XNAZwQziKHe"
      },
      "source": [
        "### 포즈 예측 모델"
      ]
    },
    {
      "cell_type": "code",
      "execution_count": 8,
      "metadata": {
        "colab": {
          "base_uri": "https://localhost:8080/"
        },
        "id": "RTLouRiv4vkr",
        "outputId": "c6359448-b997-4fe9-855d-afb6843ce720"
      },
      "outputs": [
        {
          "name": "stdout",
          "output_type": "stream",
          "text": [
            "Access denied with the following error:\n",
            "\n",
            " \tCannot retrieve the public link of the file. You may need to change\n",
            "\tthe permission to 'Anyone with the link', or have had many accesses. \n",
            "\n",
            "You may still be able to access the file from the browser:\n",
            "\n",
            "\t https://drive.google.com/uc?id=1hOHMFHEjhoJuLEQY0Ndurn5hfiA9mwko \n",
            "\n"
          ]
        }
      ],
      "source": [
        "#에러난 부분\n",
        "\n",
        "!gdown 1hOHMFHEjhoJuLEQY0Ndurn5hfiA9mwko -O pose/pose_iter_440000.caffemodel"
      ]
    },
    {
      "cell_type": "markdown",
      "metadata": {
        "id": "FHHxH87diN7D"
      },
      "source": [
        "### 휴먼 세그멘테이션 마스크 생성 모델"
      ]
    },
    {
      "cell_type": "code",
      "execution_count": 9,
      "metadata": {
        "colab": {
          "base_uri": "https://localhost:8080/",
          "height": 129
        },
        "id": "3hSJI347rZtQ",
        "outputId": "3219630c-35ab-468d-9de8-b6acf43f2867"
      },
      "outputs": [
        {
          "name": "stderr",
          "output_type": "stream",
          "text": [
            "Downloading...\n",
            "From (uriginal): https://drive.google.com/uc?id=1k4dllHpu0bdx38J7H28rVVLpU-kOHmnH\n",
            "From (redirected): https://drive.google.com/uc?id=1k4dllHpu0bdx38J7H28rVVLpU-kOHmnH&confirm=t&uuid=55cbecc0-8801-40ff-a7f1-344484d9aade\n",
            "To: /content/drive/MyDrive/myself/ACGPN/lip_final.pth\n",
            "100%|██████████| 267M/267M [00:01<00:00, 146MB/s]\n"
          ]
        },
        {
          "data": {
            "application/vnd.google.colaboratory.intrinsic+json": {
              "type": "string"
            },
            "text/plain": [
              "'lip_final.pth'"
            ]
          },
          "execution_count": 9,
          "metadata": {},
          "output_type": "execute_result"
        }
      ],
      "source": [
        "gdown.download('https://drive.google.com/uc?id=1k4dllHpu0bdx38J7H28rVVLpU-kOHmnH', 'lip_final.pth', quiet=False)"
      ]
    },
    {
      "cell_type": "markdown",
      "metadata": {
        "id": "QhpO0t1wio9_"
      },
      "source": [
        "### U2Net 모델\n",
        "\n",
        "옷 마스크 추출 모델"
      ]
    },
    {
      "cell_type": "code",
      "execution_count": 10,
      "metadata": {
        "colab": {
          "base_uri": "https://localhost:8080/"
        },
        "id": "vzy8poZT6pcU",
        "outputId": "9243d059-dca9-4da9-c3dc-b96a4bf30e8d"
      },
      "outputs": [
        {
          "name": "stdout",
          "output_type": "stream",
          "text": [
            "/content/drive/MyDrive/myself/ACGPN/U-2-Net\n",
            "mkdir: cannot create directory ‘saved_models’: File exists\n",
            "Downloading...\n",
            "From: https://drive.google.com/uc?id=1rbSTGKAE-MTxBYHd-51l2hMOQPT_7EPy\n",
            "To: /content/drive/MyDrive/myself/ACGPN/U-2-Net/saved_models/u2netp/u2netp.pth\n",
            "100% 4.68M/4.68M [00:00<00:00, 151MB/s]\n",
            "Downloading...\n",
            "From (uriginal): https://drive.google.com/uc?id=1ao1ovG1Qtx4b7EoskHXmi2E9rp5CHLcZ\n",
            "From (redirected): https://drive.google.com/uc?id=1ao1ovG1Qtx4b7EoskHXmi2E9rp5CHLcZ&confirm=t&uuid=d6e843e8-01a9-4194-90c7-838526213791\n",
            "To: /content/drive/MyDrive/myself/ACGPN/U-2-Net/saved_models/u2net/u2net.pth\n",
            "100% 176M/176M [00:00<00:00, 293MB/s]\n",
            "...load U2NEP---4.7 MB\n",
            "/content/drive/MyDrive/myself/ACGPN\n"
          ]
        }
      ],
      "source": [
        "%cd U-2-Net\n",
        "!mkdir saved_models\n",
        "!mkdir saved_models/u2net\n",
        "!mkdir saved_models/u2netp\n",
        "\n",
        "!gdown 1rbSTGKAE-MTxBYHd-51l2hMOQPT_7EPy -O saved_models/u2netp/u2netp.pth\n",
        "!gdown 1ao1ovG1Qtx4b7EoskHXmi2E9rp5CHLcZ -O saved_models/u2net/u2net.pth\n",
        "\n",
        "import u2net_load\n",
        "import u2net_run\n",
        "\n",
        "u2net = u2net_load.model(model_name='u2netp')\n",
        "\n",
        "%cd .."
      ]
    },
    {
      "cell_type": "markdown",
      "metadata": {
        "id": "5ycY0WVmjD_f"
      },
      "source": [
        "### ACGPN 모델"
      ]
    },
    {
      "cell_type": "code",
      "execution_count": 11,
      "metadata": {
        "colab": {
          "base_uri": "https://localhost:8080/"
        },
        "id": "r1VknOqswSTW",
        "outputId": "43f92944-42a3-4c60-b932-502b7e4e5070"
      },
      "outputs": [
        {
          "name": "stderr",
          "output_type": "stream",
          "text": [
            "Downloading...\n",
            "From (uriginal): https://drive.google.com/uc?id=1UWT6esQIU_d4tUm8cjxDKMhB8joQbrFx\n",
            "From (redirected): https://drive.google.com/uc?id=1UWT6esQIU_d4tUm8cjxDKMhB8joQbrFx&confirm=t&uuid=6831fd99-5688-4102-9d14-ced6b3b0c228\n",
            "To: /content/drive/MyDrive/myself/ACGPN/checkpoints/ACGPN_checkpoints.zip\n",
            "100%|██████████| 524M/524M [00:02<00:00, 224MB/s]\n"
          ]
        },
        {
          "name": "stdout",
          "output_type": "stream",
          "text": [
            "Archive:  checkpoints/ACGPN_checkpoints.zip\n",
            "   creating: checkpoints/label2city/\n",
            "  inflating: checkpoints/label2city/latest_net_G.pth  \n",
            "  inflating: checkpoints/label2city/latest_net_G1.pth  \n",
            "  inflating: checkpoints/label2city/latest_net_G2.pth  \n",
            "  inflating: checkpoints/label2city/latest_net_U.pth  \n",
            "  inflating: checkpoints/label2city/opt.txt  \n"
          ]
        }
      ],
      "source": [
        "!mkdir checkpoints\n",
        "\n",
        "gdown.download('https://drive.google.com/uc?id=1UWT6esQIU_d4tUm8cjxDKMhB8joQbrFx', output='checkpoints/ACGPN_checkpoints.zip', quiet=False)\n",
        "\n",
        "!unzip checkpoints/ACGPN_checkpoints.zip -d checkpoints"
      ]
    },
    {
      "cell_type": "markdown",
      "metadata": {
        "id": "r3jABay-kHWy"
      },
      "source": [
        "## 전처리"
      ]
    },
    {
      "cell_type": "markdown",
      "metadata": {
        "id": "9tqSGFNBhj9k"
      },
      "source": [
        "### 옷 마스크 추출"
      ]
    },
    {
      "cell_type": "code",
      "execution_count": 13,
      "metadata": {
        "colab": {
          "base_uri": "https://localhost:8080/"
        },
        "id": "Dns9-RzTUBpf",
        "outputId": "70d07df8-6bd0-44c6-a28f-3e97433936b3"
      },
      "outputs": [
        {
          "data": {
            "text/plain": [
              "['000010_1.jpg',\n",
              " '000020_1.jpg',\n",
              " '000028_1.jpg',\n",
              " '000038_1.jpg',\n",
              " '000048_1.jpg',\n",
              " '000057_1.jpg',\n",
              " '000066_1.jpg',\n",
              " '000074_1.jpg',\n",
              " '000082_1.jpg',\n",
              " '000097_1.jpg',\n",
              " '000109_1.jpg',\n",
              " '000118_1.jpg',\n",
              " '000129_1.jpg',\n",
              " '000143_1.jpg',\n",
              " '000154_1.jpg',\n",
              " '000164_1.jpg',\n",
              " '000386_1.jpg',\n",
              " '000404_1.jpg',\n",
              " '000456_1.jpg',\n",
              " '000466_1.jpg',\n",
              " '000514_1.jpg',\n",
              " '000696_1.jpg',\n",
              " '000750_1.jpg']"
            ]
          },
          "execution_count": 13,
          "metadata": {},
          "output_type": "execute_result"
        }
      ],
      "source": [
        "sorted(os.listdir('change/all'))"
      ]
    },
    {
      "cell_type": "code",
      "execution_count": 15,
      "metadata": {
        "colab": {
          "base_uri": "https://localhost:8080/"
        },
        "id": "eRIQNE3aU3uE",
        "outputId": "ff4c0fd9-f401-4645-a8bb-49ce415cc3f2"
      },
      "outputs": [
        {
          "name": "stdout",
          "output_type": "stream",
          "text": [
            "['change/all/000020_1.jpg', 'change/all/000010_1.jpg', 'change/all/000074_1.jpg', 'change/all/000057_1.jpg', 'change/all/000028_1.jpg', 'change/all/000038_1.jpg', 'change/all/000048_1.jpg', 'change/all/000164_1.jpg', 'change/all/000066_1.jpg', 'change/all/000143_1.jpg', 'change/all/000129_1.jpg', 'change/all/000082_1.jpg', 'change/all/000109_1.jpg', 'change/all/000118_1.jpg', 'change/all/000097_1.jpg', 'change/all/000154_1.jpg', 'change/all/000386_1.jpg', 'change/all/000404_1.jpg', 'change/all/000456_1.jpg', 'change/all/000514_1.jpg', 'change/all/000696_1.jpg', 'change/all/000466_1.jpg', 'change/all/000750_1.jpg']\n",
            "change/all/000020_1.jpg\n",
            "change/all/000010_1.jpg\n",
            "change/all/000074_1.jpg\n",
            "change/all/000057_1.jpg\n",
            "change/all/000028_1.jpg\n",
            "change/all/000038_1.jpg\n",
            "change/all/000048_1.jpg\n",
            "change/all/000164_1.jpg\n",
            "change/all/000066_1.jpg\n",
            "change/all/000143_1.jpg\n",
            "change/all/000129_1.jpg\n",
            "change/all/000082_1.jpg\n",
            "change/all/000109_1.jpg\n",
            "change/all/000118_1.jpg\n",
            "change/all/000097_1.jpg\n",
            "change/all/000154_1.jpg\n",
            "change/all/000386_1.jpg\n",
            "change/all/000404_1.jpg\n",
            "change/all/000456_1.jpg\n",
            "change/all/000514_1.jpg\n",
            "change/all/000696_1.jpg\n",
            "change/all/000466_1.jpg\n",
            "change/all/000750_1.jpg\n"
          ]
        }
      ],
      "source": [
        "#방법1\n",
        "\n",
        "#흰옷 저장하는 것\n",
        "# cloth_name = f'cloth_{int(time.time())}.png'\n",
        "from glob import glob\n",
        "\n",
        "cloth_path = glob(\"change/all/*\")\n",
        "print(cloth_path)\n",
        "# cloth_path = os.path.join('inputs/cloth', sorted(os.listdir('inputs/cloth')))\n",
        "for path in cloth_path:\n",
        "  print(path)\n",
        "  cloth = Image.open(path)\n",
        "  cloth = cloth.resize((192, 256), Image.BICUBIC).convert('RGB')\n",
        "\n",
        "  center_y = 96\n",
        "  center_x = 128\n",
        "\n",
        "  cloth_arr = np.array(cloth)\n",
        "  if np.mean(cloth_arr[center_y, center_x]) >= 220: # white cloth\n",
        "    img_name = path.split('/')[-1]\n",
        "  \n",
        "    cloth.save('change/white/'+img_name)\n",
        "\n",
        "\n",
        "# cloth = Image.open(cloth_path)\n",
        "# cloth = cloth.resize((192, 256), Image.BICUBIC).convert('RGB')\n",
        "# cloth.save(os.path.join('Data_preprocessing/test_color', cloth_name))\n",
        "\n",
        "u2net_run.infer(u2net, 'Data_preprocessing/test_color', 'Data_preprocessing/test_edge')\n",
        "\n",
        "# Image.open(f'Data_preprocessing/test_edge/{img_name}')"
      ]
    },
    {
      "cell_type": "code",
      "execution_count": 16,
      "metadata": {
        "colab": {
          "base_uri": "https://localhost:8080/"
        },
        "id": "hBXPbfF5XYRB",
        "outputId": "29f0e6e6-db95-4140-9c96-3c0385e45001"
      },
      "outputs": [
        {
          "data": {
            "text/plain": [
              "['000020_1.jpg']"
            ]
          },
          "execution_count": 16,
          "metadata": {},
          "output_type": "execute_result"
        }
      ],
      "source": [
        "#white에 있는 옷중에 골라서 cloth 파일에 넣었음\n",
        "\n",
        "sorted(os.listdir('inputs/cloth'))"
      ]
    },
    {
      "cell_type": "markdown",
      "metadata": {
        "id": "N7WqDchhhgVO"
      },
      "source": [
        "### 모델 포즈, 세그멘테이션"
      ]
    },
    {
      "cell_type": "code",
      "execution_count": 28,
      "metadata": {
        "colab": {
          "base_uri": "https://localhost:8080/"
        },
        "id": "tj8vmpyXX0tx",
        "outputId": "8795c3bf-e7a5-4ea6-f32c-efe1f0193786"
      },
      "outputs": [
        {
          "data": {
            "text/plain": [
              "['000001_0.jpg']"
            ]
          },
          "execution_count": 28,
          "metadata": {},
          "output_type": "execute_result"
        }
      ],
      "source": [
        "sorted(os.listdir('inputs/img'))"
      ]
    },
    {
      "cell_type": "code",
      "execution_count": 57,
      "metadata": {
        "id": "qaC-KtHdaV0w"
      },
      "outputs": [],
      "source": [
        "\n",
        "#방법2\n",
        "\n",
        "#전체 색깔의 평균내기 2분에 1 이상 240값이 차지하고 있다면 흰옷으로 치는 것!\n",
        "\n",
        "img_name = f'img_{int(time.time())}.png'\n",
        "from glob import glob\n",
        "data = glob('change/all/*')\n",
        "\n",
        "\n",
        "for i in data:\n",
        "  img = Image.open(i)\n",
        "  img = img.resize((192, 256),Image.BICUBIC)\n",
        "  checker = np.array(img)\n",
        "\n",
        "  len_white = np.where(( (checker[i][0]+checker[i][1]+ checker[i][2]) / 3)>=200)\n",
        "\n",
        "  if len(len_white[0]) > (192*256)/2:\n",
        "    save_path = i.split('/')[-1]\n",
        "    img.save('change/white2/'+save_path)\n"
      ]
    },
    {
      "cell_type": "code",
      "execution_count": 25,
      "metadata": {
        "colab": {
          "base_uri": "https://localhost:8080/",
          "height": 443
        },
        "id": "nt2HIcHyVme0",
        "outputId": "250c1b2d-f280-4ec6-e3e3-75f131b1c2b8"
      },
      "outputs": [
        {
          "name": "stdout",
          "output_type": "stream",
          "text": [
            "100% 28/28 [00:03<00:00,  8.81it/s]\n"
          ]
        },
        {
          "ename": "error",
          "evalue": "ignored",
          "output_type": "error",
          "traceback": [
            "\u001b[0;31m---------------------------------------------------------------------------\u001b[0m",
            "\u001b[0;31merror\u001b[0m                                     Traceback (most recent call last)",
            "\u001b[0;32m<ipython-input-25-0b6166be225a>\u001b[0m in \u001b[0;36m<cell line: 32>\u001b[0;34m()\u001b[0m\n\u001b[1;32m     30\u001b[0m \u001b[0;34m\u001b[0m\u001b[0m\n\u001b[1;32m     31\u001b[0m \u001b[0mpose_path\u001b[0m \u001b[0;34m=\u001b[0m \u001b[0mos\u001b[0m\u001b[0;34m.\u001b[0m\u001b[0mpath\u001b[0m\u001b[0;34m.\u001b[0m\u001b[0mjoin\u001b[0m\u001b[0;34m(\u001b[0m\u001b[0;34m'Data_preprocessing/test_pose'\u001b[0m\u001b[0;34m,\u001b[0m \u001b[0mimg_name\u001b[0m\u001b[0;34m.\u001b[0m\u001b[0mreplace\u001b[0m\u001b[0;34m(\u001b[0m\u001b[0;34m'.png'\u001b[0m\u001b[0;34m,\u001b[0m \u001b[0;34m'_keypoints.json'\u001b[0m\u001b[0;34m)\u001b[0m\u001b[0;34m)\u001b[0m\u001b[0;34m\u001b[0m\u001b[0;34m\u001b[0m\u001b[0m\n\u001b[0;32m---> 32\u001b[0;31m \u001b[0mgenerate_pose_keypoints\u001b[0m\u001b[0;34m(\u001b[0m\u001b[0mimg_path\u001b[0m\u001b[0;34m,\u001b[0m \u001b[0mpose_path\u001b[0m\u001b[0;34m)\u001b[0m\u001b[0;34m\u001b[0m\u001b[0;34m\u001b[0m\u001b[0m\n\u001b[0m\u001b[1;32m     33\u001b[0m \u001b[0;34m\u001b[0m\u001b[0m\n\u001b[1;32m     34\u001b[0m '''\n",
            "\u001b[0;32m/content/drive/MyDrive/myself/ACGPN/predict_pose.py\u001b[0m in \u001b[0;36mgenerate_pose_keypoints\u001b[0;34m(img_file, pose_file)\u001b[0m\n\u001b[1;32m     85\u001b[0m \u001b[0;34m\u001b[0m\u001b[0m\n\u001b[1;32m     86\u001b[0m     \u001b[0mmodelpath\u001b[0m \u001b[0;34m=\u001b[0m \u001b[0;34m'pose'\u001b[0m\u001b[0;34m\u001b[0m\u001b[0;34m\u001b[0m\u001b[0m\n\u001b[0;32m---> 87\u001b[0;31m     \u001b[0mpose_model\u001b[0m \u001b[0;34m=\u001b[0m \u001b[0mgeneral_pose_model\u001b[0m\u001b[0;34m(\u001b[0m\u001b[0mmodelpath\u001b[0m\u001b[0;34m)\u001b[0m\u001b[0;34m\u001b[0m\u001b[0;34m\u001b[0m\u001b[0m\n\u001b[0m\u001b[1;32m     88\u001b[0m \u001b[0;34m\u001b[0m\u001b[0m\n\u001b[1;32m     89\u001b[0m     \u001b[0mres_points\u001b[0m \u001b[0;34m=\u001b[0m \u001b[0mpose_model\u001b[0m\u001b[0;34m.\u001b[0m\u001b[0mpredict\u001b[0m\u001b[0;34m(\u001b[0m\u001b[0mimg_file\u001b[0m\u001b[0;34m)\u001b[0m\u001b[0;34m\u001b[0m\u001b[0;34m\u001b[0m\u001b[0m\n",
            "\u001b[0;32m/content/drive/MyDrive/myself/ACGPN/predict_pose.py\u001b[0m in \u001b[0;36m__init__\u001b[0;34m(self, modelpath)\u001b[0m\n\u001b[1;32m     13\u001b[0m         \u001b[0mself\u001b[0m\u001b[0;34m.\u001b[0m\u001b[0minHeight\u001b[0m \u001b[0;34m=\u001b[0m \u001b[0;36m368\u001b[0m\u001b[0;34m\u001b[0m\u001b[0;34m\u001b[0m\u001b[0m\n\u001b[1;32m     14\u001b[0m         \u001b[0mself\u001b[0m\u001b[0;34m.\u001b[0m\u001b[0mthreshold\u001b[0m \u001b[0;34m=\u001b[0m \u001b[0;36m0.05\u001b[0m\u001b[0;34m\u001b[0m\u001b[0;34m\u001b[0m\u001b[0m\n\u001b[0;32m---> 15\u001b[0;31m         \u001b[0mself\u001b[0m\u001b[0;34m.\u001b[0m\u001b[0mpose_net\u001b[0m \u001b[0;34m=\u001b[0m \u001b[0mself\u001b[0m\u001b[0;34m.\u001b[0m\u001b[0mgeneral_coco_model\u001b[0m\u001b[0;34m(\u001b[0m\u001b[0mmodelpath\u001b[0m\u001b[0;34m)\u001b[0m\u001b[0;34m\u001b[0m\u001b[0;34m\u001b[0m\u001b[0m\n\u001b[0m\u001b[1;32m     16\u001b[0m \u001b[0;34m\u001b[0m\u001b[0m\n\u001b[1;32m     17\u001b[0m     \u001b[0;32mdef\u001b[0m \u001b[0mgeneral_coco_model\u001b[0m\u001b[0;34m(\u001b[0m\u001b[0mself\u001b[0m\u001b[0;34m,\u001b[0m \u001b[0mmodelpath\u001b[0m\u001b[0;34m)\u001b[0m\u001b[0;34m:\u001b[0m\u001b[0;34m\u001b[0m\u001b[0;34m\u001b[0m\u001b[0m\n",
            "\u001b[0;32m/content/drive/MyDrive/myself/ACGPN/predict_pose.py\u001b[0m in \u001b[0;36mgeneral_coco_model\u001b[0;34m(self, modelpath)\u001b[0m\n\u001b[1;32m     38\u001b[0m             \u001b[0mmodelpath\u001b[0m\u001b[0;34m,\u001b[0m\u001b[0;34m\u001b[0m\u001b[0;34m\u001b[0m\u001b[0m\n\u001b[1;32m     39\u001b[0m             'pose_iter_440000.caffemodel')\n\u001b[0;32m---> 40\u001b[0;31m         \u001b[0mcoco_model\u001b[0m \u001b[0;34m=\u001b[0m \u001b[0mcv2\u001b[0m\u001b[0;34m.\u001b[0m\u001b[0mdnn\u001b[0m\u001b[0;34m.\u001b[0m\u001b[0mreadNetFromCaffe\u001b[0m\u001b[0;34m(\u001b[0m\u001b[0mprototxt\u001b[0m\u001b[0;34m,\u001b[0m \u001b[0mcaffemodel\u001b[0m\u001b[0;34m)\u001b[0m\u001b[0;34m\u001b[0m\u001b[0;34m\u001b[0m\u001b[0m\n\u001b[0m\u001b[1;32m     41\u001b[0m \u001b[0;34m\u001b[0m\u001b[0m\n\u001b[1;32m     42\u001b[0m         \u001b[0;32mreturn\u001b[0m \u001b[0mcoco_model\u001b[0m\u001b[0;34m\u001b[0m\u001b[0;34m\u001b[0m\u001b[0m\n",
            "\u001b[0;31merror\u001b[0m: OpenCV(4.7.0) /io/opencv/modules/dnn/src/caffe/caffe_io.cpp:1138: error: (-2:Unspecified error) FAILED: fs.is_open(). Can't open \"pose/pose_iter_440000.caffemodel\" in function 'ReadProtoFromBinaryFile'\n"
          ]
        }
      ],
      "source": [
        "\n",
        "img_name = f'img_{int(time.time())}.png'\n",
        "\n",
        "img_path = os.path.join('inputs/img', sorted(os.listdir('inputs/img'))[0])\n",
        "img = Image.open(img_path)\n",
        "img = img.resize((192,256), Image.BICUBIC)\n",
        "\n",
        "img_path = os.path.join('Data_preprocessing/test_img', img_name)\n",
        "img.save(img_path)\n",
        "\n",
        "!python3 Self-Correction-Human-Parsing-for-ACGPN/simple_extractor.py --dataset 'lip' --model-restore 'lip_final.pth' --input-dir 'Data_preprocessing/test_img' --output-dir 'Data_preprocessing/test_label'\n",
        "\n",
        "pose_path = os.path.join('Data_preprocessing/test_pose', img_name.replace('.png', '_keypoints.json'))\n",
        "generate_pose_keypoints(img_path, pose_path)\n",
        "\n",
        "'''\n",
        "img_path = os.path.join('inputs/img', sorted(os.listdir('inputs/img'))[0])\n",
        "img = Image.open(img_path)\n",
        "img = img.resize((192,256), Image.BICUBIC)\n",
        "#img = np.array(img)\n",
        "\n",
        "img_path = os.path.join('Data_preprocessing/test_img', img_name)\n",
        "img.save(img_path)\n",
        "\n",
        "!python3 Self-Correction-Human-Parsing-for-ACGPN/simple_extractor.py --dataset 'lip' --model-restore 'lip_final.pth' --input-dir 'Data_preprocessing/test_img' --output-dir 'Data_preprocessing/test_label'\n",
        "\n",
        "pose_path = os.path.join('Data_preprocessing/test_pose', img_name.replace('.png', '_keypoints.json'))\n",
        "generate_pose_keypoints(img_path, pose_path) '''\n",
        "\n",
        "#직접 다운로드 해야함 사이트 들어가서"
      ]
    },
    {
      "cell_type": "markdown",
      "metadata": {
        "id": "SdbIgthWkJFK"
      },
      "source": [
        "## 추론"
      ]
    },
    {
      "cell_type": "code",
      "execution_count": null,
      "metadata": {
        "colab": {
          "base_uri": "https://localhost:8080/"
        },
        "id": "EgMi912KAUNs",
        "outputId": "4e774ef6-5b75-49d3-89e0-9a8f7a9a55a2"
      },
      "outputs": [
        {
          "name": "stdout",
          "output_type": "stream",
          "text": [
            "/content/drive/MyDrive/ai/ACGPN\n"
          ]
        }
      ],
      "source": [
        "#cloth_name은 어떠한 옷을 적용할 것인지 옷 파일 명을 적어야함(확장자 포함)\n",
        "img_name = '000001_0.jpg'\n",
        "cloth_name = '000020_1.jpg'\n",
        "!rm -rf Data_preprocessing/test_pairs.txt\n",
        "with open('Data_preprocessing/test_pairs.txt', 'w') as f:\n",
        "  f.write(f'{img_name} {cloth_name}')\n",
        "!pwd"
      ]
    },
    {
      "cell_type": "code",
      "execution_count": null,
      "metadata": {
        "colab": {
          "base_uri": "https://localhost:8080/"
        },
        "id": "EIcoP4ll14Ia",
        "outputId": "31a09d27-ba83-4c65-8c7d-115dd9148143"
      },
      "outputs": [
        {
          "name": "stdout",
          "output_type": "stream",
          "text": [
            "?\n",
            "------------ Options -------------\n",
            "aspect_ratio: 1.0\n",
            "batchSize: 1\n",
            "checkpoints_dir: ./checkpoints\n",
            "cluster_path: features_clustered_010.npy\n",
            "continue_train: False\n",
            "data_type: 32\n",
            "datapairs: test_pairs.txt\n",
            "dataroot: Data_preprocessing/\n",
            "display_winsize: 512\n",
            "engine: None\n",
            "export_onnx: None\n",
            "fineSize: 512\n",
            "gpu_ids: [0]\n",
            "how_many: 1000\n",
            "input_nc: 3\n",
            "isTrain: False\n",
            "label_nc: 20\n",
            "loadSize: 512\n",
            "max_dataset_size: inf\n",
            "model: pix2pixHD\n",
            "nThreads: 1\n",
            "n_blocks_global: 4\n",
            "n_blocks_local: 3\n",
            "n_downsample_global: 4\n",
            "n_local_enhancers: 1\n",
            "name: label2city\n",
            "netG: global\n",
            "ngf: 64\n",
            "niter_fix_global: 0\n",
            "no_flip: False\n",
            "norm: instance\n",
            "ntest: inf\n",
            "onnx: None\n",
            "output_nc: 3\n",
            "phase: test\n",
            "resize_or_crop: scale_width\n",
            "results_dir: ./results/\n",
            "serial_batches: True\n",
            "tf_log: False\n",
            "use_dropout: False\n",
            "use_encoded_image: False\n",
            "verbose: False\n",
            "which_epoch: latest\n",
            "-------------- End ----------------\n",
            "CustomDatasetDataLoader\n",
            "dataset [AlignedDataset] was created\n",
            "Data_preprocessing/test_label label\n",
            "Data_preprocessing/test_img img\n",
            "Data_preprocessing/test_edge edge\n",
            "Data_preprocessing/test_edge edge\n",
            "Data_preprocessing/test_mask mask\n",
            "Data_preprocessing/test_mask mask\n",
            "Data_preprocessing/test_colormask colormask\n",
            "Data_preprocessing/test_colormask colormask\n",
            "Data_preprocessing/test_color color\n",
            "Data_preprocessing/test_color color\n",
            "# Inference images = 27\n",
            "latest_net_U.pth\n",
            "latest_net_G1.pth\n",
            "latest_net_G2.pth\n",
            "latest_net_G.pth\n",
            "Traceback (most recent call last):\n",
            "  File \"/content/drive/MyDrive/ai/ACGPN/test.py\", line 126, in <module>\n",
            "    main()\n",
            "  File \"/content/drive/MyDrive/ai/ACGPN/test.py\", line 85, in main\n",
            "    for i, data in enumerate(dataset):\n",
            "  File \"/usr/local/lib/python3.10/dist-packages/torch/utils/data/dataloader.py\", line 633, in __next__\n",
            "    data = self._next_data()\n",
            "  File \"/usr/local/lib/python3.10/dist-packages/torch/utils/data/dataloader.py\", line 1345, in _next_data\n",
            "    return self._process_data(data)\n",
            "  File \"/usr/local/lib/python3.10/dist-packages/torch/utils/data/dataloader.py\", line 1371, in _process_data\n",
            "    data.reraise()\n",
            "  File \"/usr/local/lib/python3.10/dist-packages/torch/_utils.py\", line 644, in reraise\n",
            "    raise exception\n",
            "FileNotFoundError: Caught FileNotFoundError in DataLoader worker process 0.\n",
            "Original Traceback (most recent call last):\n",
            "  File \"/usr/local/lib/python3.10/dist-packages/torch/utils/data/_utils/worker.py\", line 308, in _worker_loop\n",
            "    data = fetcher.fetch(index)\n",
            "  File \"/usr/local/lib/python3.10/dist-packages/torch/utils/data/_utils/fetch.py\", line 51, in fetch\n",
            "    data = [self.dataset[idx] for idx in possibly_batched_index]\n",
            "  File \"/usr/local/lib/python3.10/dist-packages/torch/utils/data/_utils/fetch.py\", line 51, in <listcomp>\n",
            "    data = [self.dataset[idx] for idx in possibly_batched_index]\n",
            "  File \"/content/drive/MyDrive/ai/ACGPN/data/aligned_dataset.py\", line 145, in __getitem__\n",
            "    B = Image.open(B_path).convert('RGB')\n",
            "  File \"/usr/local/lib/python3.10/dist-packages/PIL/Image.py\", line 2975, in open\n",
            "    fp = builtins.open(filename, \"rb\")\n",
            "FileNotFoundError: [Errno 2] No such file or directory: 'Data_preprocessing/test_img/000001_0.jpg'\n",
            "\n"
          ]
        }
      ],
      "source": [
        "!python test.py"
      ]
    },
    {
      "cell_type": "markdown",
      "metadata": {
        "id": "IrPaN8nYlnYc"
      },
      "source": [
        "## 결과"
      ]
    },
    {
      "cell_type": "code",
      "execution_count": null,
      "metadata": {
        "colab": {
          "base_uri": "https://localhost:8080/",
          "height": 291
        },
        "id": "f5FWfCeyJ8VL",
        "outputId": "56d7aa93-12e8-425f-8480-651c4fb362d8"
      },
      "outputs": [
        {
          "name": "stdout",
          "output_type": "stream",
          "text": [
            "/content/drive/MyDrive/ai/ACGPN\n"
          ]
        },
        {
          "data": {
            "image/png": "[encoded data removed]",
            "text/plain": [
              "<PIL.Image.Image image mode=RGB size=576x256 at 0x7F9600F4A890>"
            ]
          },
          "execution_count": 45,
          "metadata": {},
          "output_type": "execute_result"
        }
      ],
      "source": [
        "!pwd\n",
        "output_grid = np.concatenate([\n",
        "    np.array(Image.open(f'Data_preprocessing/test_img/{img_name}')),\n",
        "    np.array(Image.open(f'Data_preprocessing/test_color/{cloth_name}')),\n",
        "    np.array(Image.open(f'results/test/try-on/img_1685346004.png'))\n",
        "], axis=1)\n",
        "\n",
        "image_grid = Image.fromarray(output_grid)\n",
        "\n",
        "image_grid"
      ]
    },
    {
      "cell_type": "code",
      "execution_count": null,
      "metadata": {
        "id": "Wq0TzJAIliUk"
      },
      "outputs": [],
      "source": []
    }
  ],
  "metadata": {
    "accelerator": "GPU",
    "colab": {
      "gpuType": "T4",
      "provenance": []
    },
    "kernelspec": {
      "display_name": "Python 3",
      "name": "python3"
    }
  },
  "nbformat": 4,
  "nbformat_minor": 0
}
